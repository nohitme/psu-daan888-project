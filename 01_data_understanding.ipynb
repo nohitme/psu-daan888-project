{
 "cells": [
  {
   "cell_type": "code",
   "execution_count": 12,
   "metadata": {},
   "outputs": [],
   "source": [
    "import numpy as np\n",
    "import pandas as pd\n",
    "import matplotlib.pyplot as plt\n",
    "import os\n",
    "import seaborn as sns"
   ]
  },
  {
   "cell_type": "code",
   "execution_count": 13,
   "metadata": {},
   "outputs": [],
   "source": [
    "elnino = pd.read_csv('tao-all2.dat', header = None, delimiter=' ')\n",
    "elnino.columns = [\n",
    "    'Observation', 'Year', 'Month', 'Day', \n",
    "    'Date', 'Latitude', 'Longitude', 'Zonal Winds',\n",
    "    'Meridional Winds', 'Humidity', 'Air Temp', 'Sea Surface Temp'\n",
    "]"
   ]
  },
  {
   "cell_type": "markdown",
   "metadata": {},
   "source": [
    "## Statistical summary for the **Elnino**(toa-all.dat) file"
   ]
  },
  {
   "cell_type": "code",
   "execution_count": 14,
   "metadata": {},
   "outputs": [
    {
     "data": {
      "text/html": [
       "<div>\n",
       "<style scoped>\n",
       "    .dataframe tbody tr th:only-of-type {\n",
       "        vertical-align: middle;\n",
       "    }\n",
       "\n",
       "    .dataframe tbody tr th {\n",
       "        vertical-align: top;\n",
       "    }\n",
       "\n",
       "    .dataframe thead th {\n",
       "        text-align: right;\n",
       "    }\n",
       "</style>\n",
       "<table border=\"1\" class=\"dataframe\">\n",
       "  <thead>\n",
       "    <tr style=\"text-align: right;\">\n",
       "      <th></th>\n",
       "      <th>Observation</th>\n",
       "      <th>Year</th>\n",
       "      <th>Month</th>\n",
       "      <th>Day</th>\n",
       "      <th>Date</th>\n",
       "      <th>Latitude</th>\n",
       "      <th>Longitude</th>\n",
       "    </tr>\n",
       "  </thead>\n",
       "  <tbody>\n",
       "    <tr>\n",
       "      <th>count</th>\n",
       "      <td>178080.000000</td>\n",
       "      <td>178080.000000</td>\n",
       "      <td>178080.000000</td>\n",
       "      <td>178080.000000</td>\n",
       "      <td>178080.000000</td>\n",
       "      <td>178080.000000</td>\n",
       "      <td>178080.000000</td>\n",
       "    </tr>\n",
       "    <tr>\n",
       "      <th>mean</th>\n",
       "      <td>89040.500000</td>\n",
       "      <td>93.302325</td>\n",
       "      <td>6.504869</td>\n",
       "      <td>15.720536</td>\n",
       "      <td>933689.455374</td>\n",
       "      <td>0.473626</td>\n",
       "      <td>-54.025233</td>\n",
       "    </tr>\n",
       "    <tr>\n",
       "      <th>std</th>\n",
       "      <td>51407.412306</td>\n",
       "      <td>3.393818</td>\n",
       "      <td>3.459657</td>\n",
       "      <td>8.800487</td>\n",
       "      <td>33900.474320</td>\n",
       "      <td>4.583041</td>\n",
       "      <td>135.363994</td>\n",
       "    </tr>\n",
       "    <tr>\n",
       "      <th>min</th>\n",
       "      <td>1.000000</td>\n",
       "      <td>80.000000</td>\n",
       "      <td>1.000000</td>\n",
       "      <td>1.000000</td>\n",
       "      <td>800307.000000</td>\n",
       "      <td>-8.810000</td>\n",
       "      <td>-180.000000</td>\n",
       "    </tr>\n",
       "    <tr>\n",
       "      <th>25%</th>\n",
       "      <td>44520.750000</td>\n",
       "      <td>92.000000</td>\n",
       "      <td>4.000000</td>\n",
       "      <td>8.000000</td>\n",
       "      <td>920116.000000</td>\n",
       "      <td>-2.010000</td>\n",
       "      <td>-154.950000</td>\n",
       "    </tr>\n",
       "    <tr>\n",
       "      <th>50%</th>\n",
       "      <td>89040.500000</td>\n",
       "      <td>94.000000</td>\n",
       "      <td>6.000000</td>\n",
       "      <td>16.000000</td>\n",
       "      <td>940601.000000</td>\n",
       "      <td>0.010000</td>\n",
       "      <td>-111.260000</td>\n",
       "    </tr>\n",
       "    <tr>\n",
       "      <th>75%</th>\n",
       "      <td>133560.250000</td>\n",
       "      <td>96.000000</td>\n",
       "      <td>10.000000</td>\n",
       "      <td>23.000000</td>\n",
       "      <td>960617.000000</td>\n",
       "      <td>4.980000</td>\n",
       "      <td>147.010000</td>\n",
       "    </tr>\n",
       "    <tr>\n",
       "      <th>max</th>\n",
       "      <td>178080.000000</td>\n",
       "      <td>98.000000</td>\n",
       "      <td>12.000000</td>\n",
       "      <td>31.000000</td>\n",
       "      <td>980623.000000</td>\n",
       "      <td>9.050000</td>\n",
       "      <td>171.080000</td>\n",
       "    </tr>\n",
       "  </tbody>\n",
       "</table>\n",
       "</div>"
      ],
      "text/plain": [
       "         Observation           Year          Month            Day  \\\n",
       "count  178080.000000  178080.000000  178080.000000  178080.000000   \n",
       "mean    89040.500000      93.302325       6.504869      15.720536   \n",
       "std     51407.412306       3.393818       3.459657       8.800487   \n",
       "min         1.000000      80.000000       1.000000       1.000000   \n",
       "25%     44520.750000      92.000000       4.000000       8.000000   \n",
       "50%     89040.500000      94.000000       6.000000      16.000000   \n",
       "75%    133560.250000      96.000000      10.000000      23.000000   \n",
       "max    178080.000000      98.000000      12.000000      31.000000   \n",
       "\n",
       "                Date       Latitude      Longitude  \n",
       "count  178080.000000  178080.000000  178080.000000  \n",
       "mean   933689.455374       0.473626     -54.025233  \n",
       "std     33900.474320       4.583041     135.363994  \n",
       "min    800307.000000      -8.810000    -180.000000  \n",
       "25%    920116.000000      -2.010000    -154.950000  \n",
       "50%    940601.000000       0.010000    -111.260000  \n",
       "75%    960617.000000       4.980000     147.010000  \n",
       "max    980623.000000       9.050000     171.080000  "
      ]
     },
     "execution_count": 14,
     "metadata": {},
     "output_type": "execute_result"
    }
   ],
   "source": [
    "elnino.describe()"
   ]
  },
  {
   "cell_type": "markdown",
   "metadata": {},
   "source": [
    "## Data types for variables"
   ]
  },
  {
   "cell_type": "code",
   "execution_count": 15,
   "metadata": {},
   "outputs": [
    {
     "data": {
      "text/plain": [
       "Observation           int64\n",
       "Year                  int64\n",
       "Month                 int64\n",
       "Day                   int64\n",
       "Date                  int64\n",
       "Latitude            float64\n",
       "Longitude           float64\n",
       "Zonal Winds          object\n",
       "Meridional Winds     object\n",
       "Humidity             object\n",
       "Air Temp             object\n",
       "Sea Surface Temp     object\n",
       "dtype: object"
      ]
     },
     "execution_count": 15,
     "metadata": {},
     "output_type": "execute_result"
    }
   ],
   "source": [
    "elnino.dtypes"
   ]
  },
  {
   "cell_type": "markdown",
   "metadata": {},
   "source": [
    "## Number of rows and column in dataset\n",
    "\n",
    "The dataset file is composed of the following number of rows and columns (rows, columns):"
   ]
  },
  {
   "cell_type": "code",
   "execution_count": 20,
   "metadata": {},
   "outputs": [
    {
     "data": {
      "text/plain": [
       "(178080, 12)"
      ]
     },
     "execution_count": 20,
     "metadata": {},
     "output_type": "execute_result"
    }
   ],
   "source": [
    "elnino.shape"
   ]
  },
  {
   "cell_type": "markdown",
   "metadata": {},
   "source": [
    "## Check for null values\n",
    "\n",
    "The total number of null/missing values is:"
   ]
  },
  {
   "cell_type": "code",
   "execution_count": 22,
   "metadata": {},
   "outputs": [
    {
     "data": {
      "text/plain": [
       "Observation         0\n",
       "Year                0\n",
       "Month               0\n",
       "Day                 0\n",
       "Date                0\n",
       "Latitude            0\n",
       "Longitude           0\n",
       "Zonal Winds         0\n",
       "Meridional Winds    0\n",
       "Humidity            0\n",
       "Air Temp            0\n",
       "Sea Surface Temp    0\n",
       "dtype: int64"
      ]
     },
     "execution_count": 22,
     "metadata": {},
     "output_type": "execute_result"
    }
   ],
   "source": [
    "elnino.isnull().sum()"
   ]
  },
  {
   "cell_type": "code",
   "execution_count": 23,
   "metadata": {},
   "outputs": [
    {
     "name": "stdout",
     "output_type": "stream",
     "text": [
      "So, there is : 0  value missing\n"
     ]
    }
   ],
   "source": [
    "print(\"So, there is :\",elnino.isnull().values.sum(), \" value missing\")"
   ]
  },
  {
   "cell_type": "code",
   "execution_count": null,
   "metadata": {},
   "outputs": [],
   "source": []
  }
 ],
 "metadata": {
  "kernelspec": {
   "display_name": "Python 3",
   "language": "python",
   "name": "python3"
  },
  "language_info": {
   "codemirror_mode": {
    "name": "ipython",
    "version": 3
   },
   "file_extension": ".py",
   "mimetype": "text/x-python",
   "name": "python",
   "nbconvert_exporter": "python",
   "pygments_lexer": "ipython3",
   "version": "3.7.3"
  }
 },
 "nbformat": 4,
 "nbformat_minor": 4
}
