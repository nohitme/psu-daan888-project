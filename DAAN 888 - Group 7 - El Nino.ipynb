{
 "cells": [
  {
   "cell_type": "code",
   "execution_count": 2,
   "metadata": {},
   "outputs": [],
   "source": [
    "import numpy as np\n",
    "import pandas as pd\n",
    "import matplotlib.pyplot as plt\n",
    "import os\n",
    "import seaborn as sns"
   ]
  },
  {
   "cell_type": "code",
   "execution_count": 3,
   "metadata": {},
   "outputs": [],
   "source": [
    "elnino = pd.read_csv('tao-all2.dat', header = None, delimiter=' ')\n",
    "elnino.columns=['Observation', 'Year', 'Month', 'Day', \n",
    "                'Date', 'Latitude', 'Longitude', 'Zonal Winds',\n",
    "                'Meridional Winds', 'Humidity', 'Air Temp', 'Sea Surface Temp']"
   ]
  },
  {
   "cell_type": "markdown",
   "metadata": {},
   "source": [
    "## Print statistical summary"
   ]
  },
  {
   "cell_type": "code",
   "execution_count": 4,
   "metadata": {},
   "outputs": [
    {
     "name": "stdout",
     "output_type": "stream",
     "text": [
      "Statistical summary for the 'Elnino' file: \n",
      "         Observation           Year          Month            Day  \\\n",
      "count  178080.000000  178080.000000  178080.000000  178080.000000   \n",
      "mean    89040.500000      93.302325       6.504869      15.720536   \n",
      "std     51407.412306       3.393818       3.459657       8.800487   \n",
      "min         1.000000      80.000000       1.000000       1.000000   \n",
      "25%     44520.750000      92.000000       4.000000       8.000000   \n",
      "50%     89040.500000      94.000000       6.000000      16.000000   \n",
      "75%    133560.250000      96.000000      10.000000      23.000000   \n",
      "max    178080.000000      98.000000      12.000000      31.000000   \n",
      "\n",
      "                Date       Latitude      Longitude  \n",
      "count  178080.000000  178080.000000  178080.000000  \n",
      "mean   933689.455374       0.473626     -54.025233  \n",
      "std     33900.474320       4.583041     135.363994  \n",
      "min    800307.000000      -8.810000    -180.000000  \n",
      "25%    920116.000000      -2.010000    -154.950000  \n",
      "50%    940601.000000       0.010000    -111.260000  \n",
      "75%    960617.000000       4.980000     147.010000  \n",
      "max    980623.000000       9.050000     171.080000   \n",
      "\n"
     ]
    }
   ],
   "source": [
    "print(\"Statistical summary for the 'Elnino' file: \")\n",
    "print(elnino.describe(), \"\\n\")"
   ]
  },
  {
   "cell_type": "markdown",
   "metadata": {},
   "source": [
    "## display types for variables"
   ]
  },
  {
   "cell_type": "code",
   "execution_count": 5,
   "metadata": {},
   "outputs": [
    {
     "name": "stdout",
     "output_type": "stream",
     "text": [
      "The variable types are as follow: \n",
      "Observation           int64\n",
      "Year                  int64\n",
      "Month                 int64\n",
      "Day                   int64\n",
      "Date                  int64\n",
      "Latitude            float64\n",
      "Longitude           float64\n",
      "Zonal Winds          object\n",
      "Meridional Winds     object\n",
      "Humidity             object\n",
      "Air Temp             object\n",
      "Sea Surface Temp     object\n",
      "dtype: object \n",
      "\n"
     ]
    }
   ],
   "source": [
    "print(\"The variable types are as follow: \")\n",
    "print(elnino.dtypes, \"\\n\")"
   ]
  },
  {
   "cell_type": "markdown",
   "metadata": {},
   "source": [
    "## get name of columns in dataset"
   ]
  },
  {
   "cell_type": "code",
   "execution_count": 6,
   "metadata": {},
   "outputs": [
    {
     "name": "stdout",
     "output_type": "stream",
     "text": [
      "The name of the columns in dataset are:\n",
      "Index(['Observation', 'Year', 'Month', 'Day', 'Date', 'Latitude', 'Longitude',\n",
      "       'Zonal Winds', 'Meridional Winds', 'Humidity', 'Air Temp',\n",
      "       'Sea Surface Temp'],\n",
      "      dtype='object') \n",
      "\n"
     ]
    }
   ],
   "source": [
    "print(\"The name of the columns in dataset are:\")\n",
    "print(elnino.columns, \"\\n\")"
   ]
  },
  {
   "cell_type": "markdown",
   "metadata": {},
   "source": [
    "## get number of rows and column in dataset"
   ]
  },
  {
   "cell_type": "code",
   "execution_count": 7,
   "metadata": {},
   "outputs": [
    {
     "name": "stdout",
     "output_type": "stream",
     "text": [
      "The dataset file is composed of the following number of rows and columns (rows, columns): \n",
      "(178080, 12) \n",
      "\n"
     ]
    }
   ],
   "source": [
    "print(\"The dataset file is composed of the following number of rows and columns (rows, columns): \")\n",
    "print(elnino.shape, \"\\n\")"
   ]
  },
  {
   "cell_type": "markdown",
   "metadata": {},
   "source": [
    "## looking for null values"
   ]
  },
  {
   "cell_type": "code",
   "execution_count": 8,
   "metadata": {},
   "outputs": [
    {
     "name": "stdout",
     "output_type": "stream",
     "text": [
      "The total number of null/missing values is: \n",
      "Observation         0\n",
      "Year                0\n",
      "Month               0\n",
      "Day                 0\n",
      "Date                0\n",
      "Latitude            0\n",
      "Longitude           0\n",
      "Zonal Winds         0\n",
      "Meridional Winds    0\n",
      "Humidity            0\n",
      "Air Temp            0\n",
      "Sea Surface Temp    0\n",
      "dtype: int64 \n",
      "\n",
      "So, there is : 0  value missing \n",
      " \n",
      " \n",
      " \n",
      " \n",
      "\n"
     ]
    }
   ],
   "source": [
    "print(\"The total number of null/missing values is: \")\n",
    "print(elnino.isnull().sum(), \"\\n\")\n",
    "print(\"So, there is :\",elnino.isnull().values.sum(), \" value missing\", \"\\n \\n \\n \\n \\n\")"
   ]
  },
  {
   "cell_type": "code",
   "execution_count": null,
   "metadata": {},
   "outputs": [],
   "source": []
  }
 ],
 "metadata": {
  "kernelspec": {
   "display_name": "Python 3",
   "language": "python",
   "name": "python3"
  },
  "language_info": {
   "codemirror_mode": {
    "name": "ipython",
    "version": 3
   },
   "file_extension": ".py",
   "mimetype": "text/x-python",
   "name": "python",
   "nbconvert_exporter": "python",
   "pygments_lexer": "ipython3",
   "version": "3.7.3"
  }
 },
 "nbformat": 4,
 "nbformat_minor": 4
}
